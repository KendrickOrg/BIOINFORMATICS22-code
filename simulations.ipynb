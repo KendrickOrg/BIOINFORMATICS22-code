{
 "cells": [
  {
   "cell_type": "markdown",
   "id": "c33e49a0",
   "metadata": {},
   "source": [
    "# Scale Free Network simulations"
   ]
  },
  {
   "cell_type": "code",
   "execution_count": 141,
   "id": "6b30c1b9",
   "metadata": {},
   "outputs": [],
   "source": [
    "import matplotlib.pyplot as plt\n",
    "import csv\n",
    "import numpy as np\n",
    "import EoN\n",
    "import networkx as nx\n",
    "import pandas as pd\n",
    "import scipy.interpolate\n",
    "\n",
    "\n",
    "N = 10**4\n",
    "G = nx.barabasi_albert_graph(N, 4)\n",
    "tmax = 200\n",
    "simulationRuns = 50\n",
    "tau = 0.025     #transmission rate\n",
    "gamma = 0.1     #recovery rate\n",
    "rho = 0.005     #random fraction initially infected\n",
    "step = 0.1      #step size"
   ]
  },
  {
   "cell_type": "code",
   "execution_count": 148,
   "id": "e92b296f",
   "metadata": {},
   "outputs": [],
   "source": [
    "def resample(x, n, kind = 'linear'):\n",
    "    f = scipy.interpolate.interp1d(np.linspace(0, 1, x.size), x, kind)\n",
    "    return f(np.linspace(0, 1, n))"
   ]
  },
  {
   "cell_type": "code",
   "execution_count": 151,
   "id": "c6684aa7",
   "metadata": {},
   "outputs": [
    {
     "name": "stderr",
     "output_type": "stream",
     "text": [
      "No handles with labels found to put in legend.\n"
     ]
    },
    {
     "data": {
      "image/png": "[encoded data removed]",
      "text/plain": [
       "<Figure size 432x288 with 1 Axes>"
      ]
     },
     "metadata": {
      "needs_background": "light"
     },
     "output_type": "display_data"
    },
    {
     "data": {
      "text/plain": [
       "<Figure size 432x288 with 0 Axes>"
      ]
     },
     "metadata": {},
     "output_type": "display_data"
    }
   ],
   "source": [
    "x = np.arange(0, tmax, step)\n",
    "y = np.arange(0, tmax, step)\n",
    "\n",
    "# previous version (without sampling)\n",
    "#t, S, I, R = EoN.fast_SIR(G, tau, gamma, rho = rho, tmax = tmax)\n",
    "#plt.plot(t, S, color = 'red', label = 'S')\n",
    "#plt.plot(t, I, color = 'blue', label = 'I')\n",
    "#plt.plot(t, R, color = 'green', label = 'R')\n",
    "\n",
    "# version with sampling\n",
    "# for counter in range(simulationRuns):\n",
    "t, S, I, R = EoN.fast_SIR(G, tau, gamma, rho = rho, tmax = tmax)\n",
    "t = resample(t, int(tmax/step))\n",
    "S = resample(S, int(tmax/step))\n",
    "I = resample(I, int(tmax/step))\n",
    "R = resample(R, int(tmax/step))\n",
    "incidence = - np.diff(S)\n",
    "incidence = np.concatenate(([0], incidence))\n",
    "#if counter == 0:\n",
    "#    plt.plot(x, incidence, color = 'gray', alpha = 0.2, label = 'Individual simulation runs')\n",
    "plt.plot(t, incidence, color = 'gray', alpha = 0.2)\n",
    "#plt.plot(t, S, color = 'red', label = 'S')\n",
    "#plt.plot(t, I, color = 'blue', label = 'I')\n",
    "#plt.plot(t, R, color = 'green', label = 'R')\n",
    "\n",
    "#df1 = pd.read_csv('Sources/Aparicio_ScaleFreS.csv')\n",
    "#df1 = df1.loc[:, '{#status->#S}']\n",
    "#inc1 = - df1.diff()*N\n",
    "#inc1 = inc1[:2000]\n",
    "\n",
    "#df2 = pd.read_csv('Sources/Stroud_HMS.csv')\n",
    "#df2 = df2.loc[:, '{#status->#S}']\n",
    "#inc2 = - df2.diff()*N\n",
    "#inc2 = inc2[:2000]\n",
    "\n",
    "#df3 = pd.read_csv('Sources/Stroud_ScaleS.csv')\n",
    "#df3 = df3.loc[:, '{#status->#S}']\n",
    "#inc3 = - df3.diff()*N\n",
    "#inc3 = inc3[:2000]\n",
    "\n",
    "#plt.plot(x, inc1, '--', label = 'Aparicio simulation', color = 'green')\n",
    "#plt.plot(x, inc2, label = 'Homogeneous mixing simulation', color = 'red')\n",
    "#plt.plot(x, inc3, '-.', label = 'Stroud simulation', color = 'blue')\n",
    "\n",
    "plt.xlabel('Time')\n",
    "plt.ylabel('New infections per day')\n",
    "plt.title('Scale Free Network')\n",
    "plt.legend()\n",
    "plt.show()\n",
    "plt.savefig('Plot/Scale_Free_network.png')"
   ]
  },
  {
   "cell_type": "code",
   "execution_count": 146,
   "id": "1246aa10",
   "metadata": {},
   "outputs": [
    {
     "data": {
      "text/plain": [
       "12253"
      ]
     },
     "execution_count": 146,
     "metadata": {},
     "output_type": "execute_result"
    }
   ],
   "source": [
    "t.size"
   ]
  },
  {
   "cell_type": "code",
   "execution_count": 46,
   "id": "e0732134",
   "metadata": {},
   "outputs": [
    {
     "name": "stdout",
     "output_type": "stream",
     "text": [
      "[9950 9950 9949 ... 3965 3965 3965]\n"
     ]
    }
   ],
   "source": [
    "print(S)"
   ]
  },
  {
   "cell_type": "code",
   "execution_count": 55,
   "id": "59cde7b9",
   "metadata": {},
   "outputs": [
    {
     "data": {
      "text/plain": [
       "array([50,  1,  1, ...,  0,  0,  0])"
      ]
     },
     "execution_count": 55,
     "metadata": {},
     "output_type": "execute_result"
    }
   ],
   "source": [
    "incidence"
   ]
  },
  {
   "cell_type": "code",
   "execution_count": 60,
   "id": "2866123b",
   "metadata": {},
   "outputs": [
    {
     "data": {
      "text/plain": [
       "1441"
      ]
     },
     "execution_count": 60,
     "metadata": {},
     "output_type": "execute_result"
    }
   ],
   "source": [
    "I.max()"
   ]
  },
  {
   "cell_type": "code",
   "execution_count": 113,
   "id": "f5b17bf8",
   "metadata": {},
   "outputs": [],
   "source": [
    "a = np.array([1,2,3,4,5,6,7,8,9,10])"
   ]
  },
  {
   "cell_type": "code",
   "execution_count": 115,
   "id": "78acf985",
   "metadata": {},
   "outputs": [
    {
     "data": {
      "text/plain": [
       "array([ 1.  ,  3.25,  5.5 ,  7.75, 10.  ])"
      ]
     },
     "execution_count": 115,
     "metadata": {},
     "output_type": "execute_result"
    }
   ],
   "source": [
    "resample(a, 5, kind='linear')"
   ]
  },
  {
   "cell_type": "code",
   "execution_count": 116,
   "id": "0997c7f5",
   "metadata": {},
   "outputs": [
    {
     "data": {
      "text/plain": [
       "array([9950.        , 9944.04302151, 9940.08604302, ..., 4022.91395698,\n",
       "       4022.        , 4021.        ])"
      ]
     },
     "execution_count": 116,
     "metadata": {},
     "output_type": "execute_result"
    }
   ],
   "source": [
    "S"
   ]
  },
  {
   "cell_type": "code",
   "execution_count": 138,
   "id": "acd60871",
   "metadata": {},
   "outputs": [
    {
     "data": {
      "text/plain": [
       "array([0.00000000e+00, 7.83692922e-02, 2.18374167e-01, ...,\n",
       "       1.66644077e+02, 1.67333985e+02, 1.68078244e+02])"
      ]
     },
     "execution_count": 138,
     "metadata": {},
     "output_type": "execute_result"
    }
   ],
   "source": [
    "t"
   ]
  },
  {
   "cell_type": "code",
   "execution_count": 145,
   "id": "11f431b1",
   "metadata": {},
   "outputs": [
    {
     "data": {
      "text/plain": [
       "array([0.        , 0.01010101, 0.02020202, 0.03030303, 0.04040404,\n",
       "       0.05050505, 0.06060606, 0.07070707, 0.08080808, 0.09090909,\n",
       "       0.1010101 , 0.11111111, 0.12121212, 0.13131313, 0.14141414,\n",
       "       0.15151515, 0.16161616, 0.17171717, 0.18181818, 0.19191919,\n",
       "       0.2020202 , 0.21212121, 0.22222222, 0.23232323, 0.24242424,\n",
       "       0.25252525, 0.26262626, 0.27272727, 0.28282828, 0.29292929,\n",
       "       0.3030303 , 0.31313131, 0.32323232, 0.33333333, 0.34343434,\n",
       "       0.35353535, 0.36363636, 0.37373737, 0.38383838, 0.39393939,\n",
       "       0.4040404 , 0.41414141, 0.42424242, 0.43434343, 0.44444444,\n",
       "       0.45454545, 0.46464646, 0.47474747, 0.48484848, 0.49494949,\n",
       "       0.50505051, 0.51515152, 0.52525253, 0.53535354, 0.54545455,\n",
       "       0.55555556, 0.56565657, 0.57575758, 0.58585859, 0.5959596 ,\n",
       "       0.60606061, 0.61616162, 0.62626263, 0.63636364, 0.64646465,\n",
       "       0.65656566, 0.66666667, 0.67676768, 0.68686869, 0.6969697 ,\n",
       "       0.70707071, 0.71717172, 0.72727273, 0.73737374, 0.74747475,\n",
       "       0.75757576, 0.76767677, 0.77777778, 0.78787879, 0.7979798 ,\n",
       "       0.80808081, 0.81818182, 0.82828283, 0.83838384, 0.84848485,\n",
       "       0.85858586, 0.86868687, 0.87878788, 0.88888889, 0.8989899 ,\n",
       "       0.90909091, 0.91919192, 0.92929293, 0.93939394, 0.94949495,\n",
       "       0.95959596, 0.96969697, 0.97979798, 0.98989899, 1.        ])"
      ]
     },
     "execution_count": 145,
     "metadata": {},
     "output_type": "execute_result"
    }
   ],
   "source": [
    "np.linspace(0, 1, 100)"
   ]
  },
  {
   "cell_type": "code",
   "execution_count": null,
   "id": "f3ef8c52",
   "metadata": {},
   "outputs": [],
   "source": []
  }
 ],
 "metadata": {
  "kernelspec": {
   "display_name": "Python 3",
   "language": "python",
   "name": "python3"
  },
  "language_info": {
   "codemirror_mode": {
    "name": "ipython",
    "version": 3
   },
   "file_extension": ".py",
   "mimetype": "text/x-python",
   "name": "python",
   "nbconvert_exporter": "python",
   "pygments_lexer": "ipython3",
   "version": "3.9.6"
  }
 },
 "nbformat": 4,
 "nbformat_minor": 5
}
