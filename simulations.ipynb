{
 "cells": [
  {
   "cell_type": "markdown",
   "id": "c33e49a0",
   "metadata": {},
   "source": [
    "# Scale Free Network simulations"
   ]
  },
  {
   "cell_type": "code",
   "execution_count": 89,
   "id": "6b30c1b9",
   "metadata": {},
   "outputs": [],
   "source": [
    "import matplotlib.pyplot as plt\n",
    "import csv\n",
    "import numpy as np\n",
    "import EoN\n",
    "import networkx as nx\n",
    "import pandas as pd\n",
    "import scipy.interpolate\n",
    "\n",
    "\n",
    "N = 10**4\n",
    "G = nx.barabasi_albert_graph(N, 4)\n",
    "tmax = 200\n",
    "simulationRuns = 50\n",
    "tau = 0.025     #transmission rate\n",
    "gamma = 0.1     #recovery rate\n",
    "rho = 0.005     #random fraction initially infected\n",
    "step = 0.1      #step size"
   ]
  },
  {
   "cell_type": "code",
   "execution_count": 90,
   "id": "db5565c2",
   "metadata": {},
   "outputs": [],
   "source": [
    "def resample(x, n, kind='linear'):\n",
    "    f = scipy.interpolate.interp1d(np.linspace(0, 1, x.size), x, kind)\n",
    "    return f(np.linspace(0, 1, n))"
   ]
  },
  {
   "cell_type": "code",
   "execution_count": 123,
   "id": "c6684aa7",
   "metadata": {},
   "outputs": [
    {
     "name": "stderr",
     "output_type": "stream",
     "text": [
      "No handles with labels found to put in legend.\n"
     ]
    },
    {
     "data": {
      "image/png": "[encoded data removed]",
      "text/plain": [
       "<Figure size 432x288 with 1 Axes>"
      ]
     },
     "metadata": {
      "needs_background": "light"
     },
     "output_type": "display_data"
    },
    {
     "data": {
      "text/plain": [
       "<Figure size 432x288 with 0 Axes>"
      ]
     },
     "metadata": {},
     "output_type": "display_data"
    }
   ],
   "source": [
    "x = np.arange(0, tmax, step)\n",
    "y = np.arange(0, tmax, step)\n",
    "\n",
    "# for counter in range(simulationRuns):\n",
    "t, S, I, R = EoN.fast_SIR(G, tau, gamma, rho = rho, tmax = tmax)\n",
    "S = resample(S, int(tmax/step))/N\n",
    "incidence = - np.diff(S)\n",
    "incidence = np.concatenate(([0], incidence))\n",
    "if counter == 0:\n",
    "    plt.plot(x, incidence, color = 'gray', alpha = 0.2, label = 'Individual simulation runs')\n",
    "plt.plot(x, incidence, color = 'gray', alpha = 0.2)\n",
    "\n",
    "#df1 = pd.read_csv('Sources/Aparicio_ScaleFreS.csv')\n",
    "#df1 = df1.loc[:, '{#status->#S}']\n",
    "#inc1 = - df1.diff()*N\n",
    "#inc1 = inc1[:2000]\n",
    "\n",
    "#df2 = pd.read_csv('Sources/Stroud_HMS.csv')\n",
    "#df2 = df2.loc[:, '{#status->#S}']\n",
    "#inc2 = - df2.diff()*N\n",
    "#inc2 = inc2[:2000]\n",
    "\n",
    "#df3 = pd.read_csv('Sources/Stroud_ScaleS.csv')\n",
    "#df3 = df3.loc[:, '{#status->#S}']\n",
    "#inc3 = - df3.diff()*N\n",
    "#inc3 = inc3[:2000]\n",
    "\n",
    "#plt.plot(x, inc1, '--', label = 'Aparicio simulation', color = 'green')\n",
    "#plt.plot(x, inc2, label = 'Homogeneous mixing simulation', color = 'red')\n",
    "#plt.plot(x, inc3, '-.', label = 'Stroud simulation', color = 'blue')\n",
    "\n",
    "plt.xlabel('Time')\n",
    "plt.ylabel('New infections per day')\n",
    "plt.title('Scale Free Network')\n",
    "plt.legend()\n",
    "plt.show()\n",
    "plt.savefig('Plot/Scale_Free_network.png')"
   ]
  },
  {
   "cell_type": "code",
   "execution_count": 112,
   "id": "1246aa10",
   "metadata": {},
   "outputs": [
    {
     "data": {
      "text/plain": [
       "array([50.        ,  5.95697849,  3.95697849, ...,  2.08604302,\n",
       "        0.91395698,  1.        ])"
      ]
     },
     "execution_count": 112,
     "metadata": {},
     "output_type": "execute_result"
    }
   ],
   "source": [
    "incidence"
   ]
  },
  {
   "cell_type": "code",
   "execution_count": 46,
   "id": "2e76c92e",
   "metadata": {},
   "outputs": [
    {
     "name": "stdout",
     "output_type": "stream",
     "text": [
      "[9950 9950 9949 ... 3965 3965 3965]\n"
     ]
    }
   ],
   "source": [
    "print(S)"
   ]
  },
  {
   "cell_type": "code",
   "execution_count": 55,
   "id": "1babdd1f",
   "metadata": {},
   "outputs": [
    {
     "data": {
      "text/plain": [
       "array([50,  1,  1, ...,  0,  0,  0])"
      ]
     },
     "execution_count": 55,
     "metadata": {},
     "output_type": "execute_result"
    }
   ],
   "source": [
    "incidence"
   ]
  },
  {
   "cell_type": "code",
   "execution_count": 60,
   "id": "51a50e8c",
   "metadata": {},
   "outputs": [
    {
     "data": {
      "text/plain": [
       "1441"
      ]
     },
     "execution_count": 60,
     "metadata": {},
     "output_type": "execute_result"
    }
   ],
   "source": [
    "I.max()"
   ]
  },
  {
   "cell_type": "code",
   "execution_count": 113,
   "id": "ffa9f9a2",
   "metadata": {},
   "outputs": [],
   "source": [
    "a = np.array([1,2,3,4,5,6,7,8,9,10])"
   ]
  },
  {
   "cell_type": "code",
   "execution_count": 115,
   "id": "34a5cd6c",
   "metadata": {},
   "outputs": [
    {
     "data": {
      "text/plain": [
       "array([ 1.  ,  3.25,  5.5 ,  7.75, 10.  ])"
      ]
     },
     "execution_count": 115,
     "metadata": {},
     "output_type": "execute_result"
    }
   ],
   "source": [
    "resample(a, 5, kind='linear')"
   ]
  },
  {
   "cell_type": "code",
   "execution_count": 116,
   "id": "40e9887e",
   "metadata": {},
   "outputs": [
    {
     "data": {
      "text/plain": [
       "array([9950.        , 9944.04302151, 9940.08604302, ..., 4022.91395698,\n",
       "       4022.        , 4021.        ])"
      ]
     },
     "execution_count": 116,
     "metadata": {},
     "output_type": "execute_result"
    }
   ],
   "source": [
    "S"
   ]
  },
  {
   "cell_type": "code",
   "execution_count": 117,
   "id": "575bdbf9",
   "metadata": {},
   "outputs": [
    {
     "data": {
      "text/plain": [
       "2000"
      ]
     },
     "execution_count": 117,
     "metadata": {},
     "output_type": "execute_result"
    }
   ],
   "source": [
    "S.size"
   ]
  },
  {
   "cell_type": "code",
   "execution_count": null,
   "id": "2cfd0e09",
   "metadata": {},
   "outputs": [],
   "source": []
  }
 ],
 "metadata": {
  "kernelspec": {
   "display_name": "Python 3",
   "language": "python",
   "name": "python3"
  },
  "language_info": {
   "codemirror_mode": {
    "name": "ipython",
    "version": 3
   },
   "file_extension": ".py",
   "mimetype": "text/x-python",
   "name": "python",
   "nbconvert_exporter": "python",
   "pygments_lexer": "ipython3",
   "version": "3.9.6"
  }
 },
 "nbformat": 4,
 "nbformat_minor": 5
}
